{
 "cells": [
  {
   "cell_type": "code",
   "execution_count": 20,
   "id": "e9923fe3-bcb6-43f1-bd99-61e1360a749c",
   "metadata": {},
   "outputs": [],
   "source": [
    "# importing libraries\n",
    "\n",
    "import pandas as pd\n",
    "import seaborn as sns\n",
    "import matplotlib.pyplot as plt\n",
    "import warnings\n",
    "warnings.filterwarnings('ignore')"
   ]
  },
  {
   "cell_type": "code",
   "execution_count": 21,
   "id": "c841b9e0-794d-444c-986d-88e3e4780f00",
   "metadata": {},
   "outputs": [
    {
     "data": {
      "text/html": [
       "<div>\n",
       "<style scoped>\n",
       "    .dataframe tbody tr th:only-of-type {\n",
       "        vertical-align: middle;\n",
       "    }\n",
       "\n",
       "    .dataframe tbody tr th {\n",
       "        vertical-align: top;\n",
       "    }\n",
       "\n",
       "    .dataframe thead th {\n",
       "        text-align: right;\n",
       "    }\n",
       "</style>\n",
       "<table border=\"1\" class=\"dataframe\">\n",
       "  <thead>\n",
       "    <tr style=\"text-align: right;\">\n",
       "      <th></th>\n",
       "      <th>age</th>\n",
       "      <th>sex</th>\n",
       "      <th>cp</th>\n",
       "      <th>trestbps</th>\n",
       "      <th>chol</th>\n",
       "      <th>fbs</th>\n",
       "      <th>restecg</th>\n",
       "      <th>thalach</th>\n",
       "      <th>exang</th>\n",
       "      <th>oldpeak</th>\n",
       "      <th>slope</th>\n",
       "      <th>ca</th>\n",
       "      <th>thal</th>\n",
       "      <th>target</th>\n",
       "    </tr>\n",
       "  </thead>\n",
       "  <tbody>\n",
       "    <tr>\n",
       "      <th>0</th>\n",
       "      <td>67.0</td>\n",
       "      <td>1.0</td>\n",
       "      <td>0.0</td>\n",
       "      <td>176.0</td>\n",
       "      <td>148.0</td>\n",
       "      <td>1.0</td>\n",
       "      <td>NaN</td>\n",
       "      <td>NaN</td>\n",
       "      <td>1.0</td>\n",
       "      <td>5.6</td>\n",
       "      <td>3.0</td>\n",
       "      <td>3.0</td>\n",
       "      <td>fixed</td>\n",
       "      <td>0.0</td>\n",
       "    </tr>\n",
       "    <tr>\n",
       "      <th>1</th>\n",
       "      <td>57.0</td>\n",
       "      <td>1.0</td>\n",
       "      <td>1.0</td>\n",
       "      <td>155.0</td>\n",
       "      <td>551.0</td>\n",
       "      <td>0.0</td>\n",
       "      <td>1.0</td>\n",
       "      <td>98.0</td>\n",
       "      <td>1.0</td>\n",
       "      <td>NaN</td>\n",
       "      <td>2.0</td>\n",
       "      <td>4.0</td>\n",
       "      <td>fixed</td>\n",
       "      <td>0.0</td>\n",
       "    </tr>\n",
       "    <tr>\n",
       "      <th>2</th>\n",
       "      <td>43.0</td>\n",
       "      <td>1.0</td>\n",
       "      <td>0.0</td>\n",
       "      <td>125.0</td>\n",
       "      <td>519.0</td>\n",
       "      <td>1.0</td>\n",
       "      <td>0.0</td>\n",
       "      <td>113.0</td>\n",
       "      <td>1.0</td>\n",
       "      <td>NaN</td>\n",
       "      <td>1.0</td>\n",
       "      <td>4.0</td>\n",
       "      <td>reversable</td>\n",
       "      <td>1.0</td>\n",
       "    </tr>\n",
       "    <tr>\n",
       "      <th>3</th>\n",
       "      <td>71.0</td>\n",
       "      <td>NaN</td>\n",
       "      <td>0.0</td>\n",
       "      <td>123.0</td>\n",
       "      <td>285.0</td>\n",
       "      <td>0.0</td>\n",
       "      <td>2.0</td>\n",
       "      <td>156.0</td>\n",
       "      <td>0.0</td>\n",
       "      <td>6.2</td>\n",
       "      <td>3.0</td>\n",
       "      <td>1.0</td>\n",
       "      <td>reversable</td>\n",
       "      <td>1.0</td>\n",
       "    </tr>\n",
       "    <tr>\n",
       "      <th>4</th>\n",
       "      <td>36.0</td>\n",
       "      <td>0.0</td>\n",
       "      <td>0.0</td>\n",
       "      <td>122.0</td>\n",
       "      <td>488.0</td>\n",
       "      <td>1.0</td>\n",
       "      <td>1.0</td>\n",
       "      <td>NaN</td>\n",
       "      <td>1.0</td>\n",
       "      <td>3.3</td>\n",
       "      <td>3.0</td>\n",
       "      <td>1.0</td>\n",
       "      <td>normal</td>\n",
       "      <td>0.0</td>\n",
       "    </tr>\n",
       "    <tr>\n",
       "      <th>...</th>\n",
       "      <td>...</td>\n",
       "      <td>...</td>\n",
       "      <td>...</td>\n",
       "      <td>...</td>\n",
       "      <td>...</td>\n",
       "      <td>...</td>\n",
       "      <td>...</td>\n",
       "      <td>...</td>\n",
       "      <td>...</td>\n",
       "      <td>...</td>\n",
       "      <td>...</td>\n",
       "      <td>...</td>\n",
       "      <td>...</td>\n",
       "      <td>...</td>\n",
       "    </tr>\n",
       "    <tr>\n",
       "      <th>495</th>\n",
       "      <td>47.0</td>\n",
       "      <td>1.0</td>\n",
       "      <td>1.0</td>\n",
       "      <td>NaN</td>\n",
       "      <td>239.0</td>\n",
       "      <td>1.0</td>\n",
       "      <td>2.0</td>\n",
       "      <td>105.0</td>\n",
       "      <td>1.0</td>\n",
       "      <td>2.9</td>\n",
       "      <td>2.0</td>\n",
       "      <td>1.0</td>\n",
       "      <td>NaN</td>\n",
       "      <td>0.0</td>\n",
       "    </tr>\n",
       "    <tr>\n",
       "      <th>496</th>\n",
       "      <td>60.0</td>\n",
       "      <td>1.0</td>\n",
       "      <td>2.0</td>\n",
       "      <td>98.0</td>\n",
       "      <td>270.0</td>\n",
       "      <td>1.0</td>\n",
       "      <td>NaN</td>\n",
       "      <td>100.0</td>\n",
       "      <td>1.0</td>\n",
       "      <td>5.4</td>\n",
       "      <td>1.0</td>\n",
       "      <td>0.0</td>\n",
       "      <td>reversable</td>\n",
       "      <td>0.0</td>\n",
       "    </tr>\n",
       "    <tr>\n",
       "      <th>497</th>\n",
       "      <td>29.0</td>\n",
       "      <td>1.0</td>\n",
       "      <td>2.0</td>\n",
       "      <td>138.0</td>\n",
       "      <td>NaN</td>\n",
       "      <td>1.0</td>\n",
       "      <td>0.0</td>\n",
       "      <td>127.0</td>\n",
       "      <td>0.0</td>\n",
       "      <td>1.3</td>\n",
       "      <td>2.0</td>\n",
       "      <td>1.0</td>\n",
       "      <td>reversable</td>\n",
       "      <td>0.0</td>\n",
       "    </tr>\n",
       "    <tr>\n",
       "      <th>498</th>\n",
       "      <td>33.0</td>\n",
       "      <td>0.0</td>\n",
       "      <td>2.0</td>\n",
       "      <td>151.0</td>\n",
       "      <td>261.0</td>\n",
       "      <td>0.0</td>\n",
       "      <td>0.0</td>\n",
       "      <td>117.0</td>\n",
       "      <td>1.0</td>\n",
       "      <td>0.8</td>\n",
       "      <td>3.0</td>\n",
       "      <td>3.0</td>\n",
       "      <td>fixed</td>\n",
       "      <td>NaN</td>\n",
       "    </tr>\n",
       "    <tr>\n",
       "      <th>499</th>\n",
       "      <td>73.0</td>\n",
       "      <td>1.0</td>\n",
       "      <td>3.0</td>\n",
       "      <td>124.0</td>\n",
       "      <td>428.0</td>\n",
       "      <td>0.0</td>\n",
       "      <td>0.0</td>\n",
       "      <td>89.0</td>\n",
       "      <td>1.0</td>\n",
       "      <td>1.8</td>\n",
       "      <td>3.0</td>\n",
       "      <td>2.0</td>\n",
       "      <td>normal</td>\n",
       "      <td>1.0</td>\n",
       "    </tr>\n",
       "  </tbody>\n",
       "</table>\n",
       "<p>500 rows × 14 columns</p>\n",
       "</div>"
      ],
      "text/plain": [
       "      age  sex   cp  trestbps   chol  fbs  restecg  thalach  exang  oldpeak  \\\n",
       "0    67.0  1.0  0.0     176.0  148.0  1.0      NaN      NaN    1.0      5.6   \n",
       "1    57.0  1.0  1.0     155.0  551.0  0.0      1.0     98.0    1.0      NaN   \n",
       "2    43.0  1.0  0.0     125.0  519.0  1.0      0.0    113.0    1.0      NaN   \n",
       "3    71.0  NaN  0.0     123.0  285.0  0.0      2.0    156.0    0.0      6.2   \n",
       "4    36.0  0.0  0.0     122.0  488.0  1.0      1.0      NaN    1.0      3.3   \n",
       "..    ...  ...  ...       ...    ...  ...      ...      ...    ...      ...   \n",
       "495  47.0  1.0  1.0       NaN  239.0  1.0      2.0    105.0    1.0      2.9   \n",
       "496  60.0  1.0  2.0      98.0  270.0  1.0      NaN    100.0    1.0      5.4   \n",
       "497  29.0  1.0  2.0     138.0    NaN  1.0      0.0    127.0    0.0      1.3   \n",
       "498  33.0  0.0  2.0     151.0  261.0  0.0      0.0    117.0    1.0      0.8   \n",
       "499  73.0  1.0  3.0     124.0  428.0  0.0      0.0     89.0    1.0      1.8   \n",
       "\n",
       "     slope   ca        thal  target  \n",
       "0      3.0  3.0       fixed     0.0  \n",
       "1      2.0  4.0       fixed     0.0  \n",
       "2      1.0  4.0  reversable     1.0  \n",
       "3      3.0  1.0  reversable     1.0  \n",
       "4      3.0  1.0      normal     0.0  \n",
       "..     ...  ...         ...     ...  \n",
       "495    2.0  1.0         NaN     0.0  \n",
       "496    1.0  0.0  reversable     0.0  \n",
       "497    2.0  1.0  reversable     0.0  \n",
       "498    3.0  3.0       fixed     NaN  \n",
       "499    3.0  2.0      normal     1.0  \n",
       "\n",
       "[500 rows x 14 columns]"
      ]
     },
     "execution_count": 21,
     "metadata": {},
     "output_type": "execute_result"
    }
   ],
   "source": [
    "# importing dataset\n",
    "\n",
    "ds = pd.read_csv('heart_disease_dataset.csv')\n",
    "ds"
   ]
  },
  {
   "cell_type": "code",
   "execution_count": 22,
   "id": "947bc6f3-3d09-4cd2-a4e3-fe89921dbfce",
   "metadata": {},
   "outputs": [
    {
     "name": "stdout",
     "output_type": "stream",
     "text": [
      "<class 'pandas.core.frame.DataFrame'>\n",
      "RangeIndex: 500 entries, 0 to 499\n",
      "Data columns (total 14 columns):\n",
      " #   Column    Non-Null Count  Dtype  \n",
      "---  ------    --------------  -----  \n",
      " 0   age       448 non-null    float64\n",
      " 1   sex       441 non-null    float64\n",
      " 2   cp        456 non-null    float64\n",
      " 3   trestbps  457 non-null    float64\n",
      " 4   chol      448 non-null    float64\n",
      " 5   fbs       456 non-null    float64\n",
      " 6   restecg   446 non-null    float64\n",
      " 7   thalach   456 non-null    float64\n",
      " 8   exang     464 non-null    float64\n",
      " 9   oldpeak   444 non-null    float64\n",
      " 10  slope     468 non-null    float64\n",
      " 11  ca        453 non-null    float64\n",
      " 12  thal      450 non-null    object \n",
      " 13  target    453 non-null    float64\n",
      "dtypes: float64(13), object(1)\n",
      "memory usage: 54.8+ KB\n"
     ]
    }
   ],
   "source": [
    "ds.info()"
   ]
  },
  {
   "cell_type": "code",
   "execution_count": 23,
   "id": "5709512f-4553-424d-b372-6742211eaef7",
   "metadata": {},
   "outputs": [
    {
     "data": {
      "text/plain": [
       "age         52\n",
       "sex         59\n",
       "cp          44\n",
       "trestbps    43\n",
       "chol        52\n",
       "fbs         44\n",
       "restecg     54\n",
       "thalach     44\n",
       "exang       36\n",
       "oldpeak     56\n",
       "slope       32\n",
       "ca          47\n",
       "thal        50\n",
       "target      47\n",
       "dtype: int64"
      ]
     },
     "execution_count": 23,
     "metadata": {},
     "output_type": "execute_result"
    }
   ],
   "source": [
    "ds.isnull().sum()"
   ]
  },
  {
   "cell_type": "code",
   "execution_count": 24,
   "id": "0ce44539-4c04-4ab3-9561-3576a6d9ddc8",
   "metadata": {},
   "outputs": [],
   "source": [
    "# Numerical columns : fill with mean\n",
    "num_col = ['age', 'trestbps', 'chol', 'thalach', 'oldpeak']\n",
    "ds[num_col] = ds[num_col].fillna(ds[num_col].median())\n",
    "\n",
    "# Categorical column encode with mode\n",
    "cat_col = ['sex','cp','fbs','restecg','exang','slope','ca','thal']\n",
    "for col in cat_col:\n",
    "    ds[col] = ds[col].fillna(ds[col].mode()[0])\n"
   ]
  },
  {
   "cell_type": "code",
   "execution_count": 25,
   "id": "1c751150-c9f3-47ef-829b-663fa2afb26d",
   "metadata": {},
   "outputs": [
    {
     "data": {
      "text/plain": [
       "Index(['age', 'sex', 'cp', 'trestbps', 'chol', 'fbs', 'restecg', 'thalach',\n",
       "       'exang', 'oldpeak', 'slope', 'ca', 'thal', 'target'],\n",
       "      dtype='object')"
      ]
     },
     "execution_count": 25,
     "metadata": {},
     "output_type": "execute_result"
    }
   ],
   "source": [
    "ds.columns"
   ]
  },
  {
   "cell_type": "code",
   "execution_count": 26,
   "id": "d914318b-2ce7-488b-ac32-d66f58a86df4",
   "metadata": {},
   "outputs": [],
   "source": [
    "ds.dropna(subset = ['target'] , inplace=True)"
   ]
  },
  {
   "cell_type": "code",
   "execution_count": 27,
   "id": "917bbb44-f0eb-4d88-b723-b5206525863a",
   "metadata": {},
   "outputs": [],
   "source": [
    "ds['age'] = ds['age'].astype(int)\n",
    "ds['sex'] = ds['sex'].astype(int)\n",
    "ds['cp'] = ds['cp'].astype(int)\n",
    "ds['fbs'] = ds['fbs'].astype(int)\n",
    "ds['restecg'] = ds['restecg'].astype(int)\n",
    "ds['exang'] = ds['exang'].astype(int)\n",
    "ds['slope'] = ds['slope'].astype(int)\n",
    "ds['ca'] = ds['ca'].astype(int)"
   ]
  },
  {
   "cell_type": "code",
   "execution_count": 28,
   "id": "66fe971a-7917-4418-a7c7-e5c37099e77b",
   "metadata": {},
   "outputs": [
    {
     "name": "stdout",
     "output_type": "stream",
     "text": [
      "Encodinf Maps :  {'fixed': 0, 'normal': 1, 'reversable': 2}\n"
     ]
    }
   ],
   "source": [
    "from sklearn.preprocessing import LabelEncoder\n",
    "\n",
    "le_thal = LabelEncoder()\n",
    "ds['thal_encoded'] = le_thal.fit_transform(ds['thal']) \n",
    "\n",
    "ds.drop('thal',axis = 1,inplace=True)\n",
    "\n",
    "thal_mapping = dict(zip(le_thal.classes_,le_thal.transform(le_thal.classes_)))\n",
    "print('Encodinf Maps : ',thal_mapping)"
   ]
  },
  {
   "cell_type": "code",
   "execution_count": 29,
   "id": "899c416d-cbb7-4b77-aecf-6567ed0a7035",
   "metadata": {},
   "outputs": [
    {
     "name": "stdout",
     "output_type": "stream",
     "text": [
      "0\n"
     ]
    }
   ],
   "source": [
    "print(ds.duplicated().sum())\n",
    "ds.drop_duplicates(inplace=True)"
   ]
  },
  {
   "cell_type": "code",
   "execution_count": 30,
   "id": "49eb922a-880e-4244-b56b-9019adefc938",
   "metadata": {},
   "outputs": [
    {
     "name": "stdout",
     "output_type": "stream",
     "text": [
      "<class 'pandas.core.frame.DataFrame'>\n",
      "Index: 453 entries, 0 to 499\n",
      "Data columns (total 14 columns):\n",
      " #   Column        Non-Null Count  Dtype  \n",
      "---  ------        --------------  -----  \n",
      " 0   age           453 non-null    int32  \n",
      " 1   sex           453 non-null    int32  \n",
      " 2   cp            453 non-null    int32  \n",
      " 3   trestbps      453 non-null    float64\n",
      " 4   chol          453 non-null    float64\n",
      " 5   fbs           453 non-null    int32  \n",
      " 6   restecg       453 non-null    int32  \n",
      " 7   thalach       453 non-null    float64\n",
      " 8   exang         453 non-null    int32  \n",
      " 9   oldpeak       453 non-null    float64\n",
      " 10  slope         453 non-null    int32  \n",
      " 11  ca            453 non-null    int32  \n",
      " 12  target        453 non-null    float64\n",
      " 13  thal_encoded  453 non-null    int32  \n",
      "dtypes: float64(5), int32(9)\n",
      "memory usage: 37.2 KB\n"
     ]
    },
    {
     "data": {
      "text/plain": [
       "age             0\n",
       "sex             0\n",
       "cp              0\n",
       "trestbps        0\n",
       "chol            0\n",
       "fbs             0\n",
       "restecg         0\n",
       "thalach         0\n",
       "exang           0\n",
       "oldpeak         0\n",
       "slope           0\n",
       "ca              0\n",
       "target          0\n",
       "thal_encoded    0\n",
       "dtype: int64"
      ]
     },
     "execution_count": 30,
     "metadata": {},
     "output_type": "execute_result"
    }
   ],
   "source": [
    "ds.info()\n",
    "ds.isnull().sum()"
   ]
  },
  {
   "cell_type": "code",
   "execution_count": 31,
   "id": "57e794b4-8110-4ce6-a01d-d0839369cf01",
   "metadata": {},
   "outputs": [],
   "source": [
    "ds.to_csv('cleaned_heart_disease_data.csv')"
   ]
  },
  {
   "cell_type": "code",
   "execution_count": null,
   "id": "3efca51f-c35c-4cb4-a97e-d5806a0e8b83",
   "metadata": {},
   "outputs": [],
   "source": []
  }
 ],
 "metadata": {
  "kernelspec": {
   "display_name": "Python 3 (ipykernel)",
   "language": "python",
   "name": "python3"
  },
  "language_info": {
   "codemirror_mode": {
    "name": "ipython",
    "version": 3
   },
   "file_extension": ".py",
   "mimetype": "text/x-python",
   "name": "python",
   "nbconvert_exporter": "python",
   "pygments_lexer": "ipython3",
   "version": "3.12.7"
  }
 },
 "nbformat": 4,
 "nbformat_minor": 5
}
